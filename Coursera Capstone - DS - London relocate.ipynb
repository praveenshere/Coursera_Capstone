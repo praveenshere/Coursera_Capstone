{
    "nbformat_minor": 1, 
    "cells": [
        {
            "source": "# Shifting home in London - Choosing the best borough\n---", 
            "cell_type": "markdown", 
            "metadata": {
                "collapsed": true
            }
        }, 
        {
            "source": "## Author: Praveen Ramasubramaniam\n## Date: October 8, 2019", 
            "cell_type": "markdown", 
            "metadata": {}
        }, 
        {
            "source": "### Introduction - About London: \nLondon is considered to be one of the world's most important global cities and has been termed the world's most powerful, most desirable, most influential, most visited, innovative, sustainable and most popular for work city in the world according to various sources. London exerts a considerable impact upon the arts, commerce, education, entertainment, fashion, finance, healthcare, media, professional services, research and development, tourism and transportation. It is one of the largest financial centres and is the most-visited city as measured by international arrivals and has the busiest city airport system as measured by passenger traffic. It is the leading investment destination, hosting more international retailers and ultra high-net-worth individuals than any other city. London's universities form the largest concentration of higher education institutes in Europe, and is home of world-class institutions such as Imperial College London in science, technology, engineering, and mathematics and the London School of Economics in economics, finance, and business.\n\nLondon has a diverse range of people and cultures, and more than 300 languages are spoken in the region. It is the most populous of any city in the European Union and accounting for 13.4% of the UK population. The population within the London commuter belt is the most populous in the EU.\n\n*Source: Wikipedia*", 
            "cell_type": "markdown", 
            "metadata": {}
        }, 
        {
            "source": "### Background: \nI am fortunate to work in London and reside in one of the outer Greater London boroughs which is also a commuter belt. There comes a point in time where due to the change in circumstances - socio-economic, financial, cultural or due to any other factors like change in job, expanding family, one may decide to shift his / her home and relocate to another property. There are a number of factors that one may consider to choose where to shift. Some of the factors can be: easy access to public transport, low crime rate in the area, good schools or educational institutions, healthcare facilities, entertainment avenues, make-up of the population in the area, socio-economic indicators within the area amongst others.", 
            "cell_type": "markdown", 
            "metadata": {}
        }, 
        {
            "source": "### Problem Statement:\nThis project is aimed at shortlisting one or more London boroughs to relocate based on a number of criteria that are specific to the author. The project will try to utilise most of the relevant data science topics learned in the lead up to the certification to answer the question. The actual criteria for selection would be reviewed, weighted and finalised as part of the final submission, however some of the initial indicators which are to be considered would be:\n1. Access to public transport\n2. Access to essential amenities - schools, medical care\n3. Community safety - crime rate, incidents etc.,\n4. Housing indicators - like average house prices, repossessions etc.,\n5. Make up of the borough in terms of entertainment avenues, most visited places etc.,\n6. Make-up of the population in terms of age, socio-economic indicators etc.,\n7. Environment quality - pollution, green spaces etc.,       ", 
            "cell_type": "markdown", 
            "metadata": {}
        }, 
        {
            "source": "### Data: \nLondon being a global city has quite a lot of data around most of the criteria specified in the Problem Statement section. The most important sources of data are likely to be:\n1. [London Data Store](https://data.london.gov.uk \"London Data Store\")\n2. [Office for National Statistics](https://www.ons.gov.uk \"Office for National Statistics\")\n3. Foursquare API location data - for specific borough level details\n\nData obtained from these sources are likely to be in mixed format - csv, Microsoft excel etc., and care should be taken to ensure that the most appropriate data is obtained from the data sources, validated, cleansed and loaded into appropriate data structures (like pandas data frames) for analysis, clustering and to obtain the solution to the problem statement.", 
            "cell_type": "markdown", 
            "metadata": {}
        }, 
        {
            "execution_count": null, 
            "cell_type": "code", 
            "metadata": {}, 
            "outputs": [], 
            "source": ""
        }
    ], 
    "metadata": {
        "kernelspec": {
            "display_name": "Python 3.6", 
            "name": "python3", 
            "language": "python"
        }, 
        "language_info": {
            "mimetype": "text/x-python", 
            "nbconvert_exporter": "python", 
            "version": "3.6.8", 
            "name": "python", 
            "file_extension": ".py", 
            "pygments_lexer": "ipython3", 
            "codemirror_mode": {
                "version": 3, 
                "name": "ipython"
            }
        }
    }, 
    "nbformat": 4
}